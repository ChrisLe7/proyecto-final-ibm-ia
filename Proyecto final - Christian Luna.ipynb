{
 "cells": [
  {
   "cell_type": "markdown",
   "id": "ead4329e",
   "metadata": {
    "id": "ead4329e"
   },
   "source": [
    "![SkillupLogo.jpg](data:image/jpeg;base64,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)"
   ]
  },
  {
   "cell_type": "markdown",
   "id": "c25c7041",
   "metadata": {
    "id": "c25c7041"
   },
   "source": [
    "# **Detección de fraudes con tarjetas de crédito**"
   ]
  },
  {
   "cell_type": "markdown",
   "id": "daaffd97",
   "metadata": {
    "id": "daaffd97"
   },
   "source": [
    "Enlace al dataset: https://www.kaggle.com/datasets/mlg-ulb/creditcardfraud"
   ]
  },
  {
   "cell_type": "markdown",
   "id": "sdeXwuFo_kWE",
   "metadata": {
    "id": "sdeXwuFo_kWE"
   },
   "source": [
    "### Preparación del dataset"
   ]
  },
  {
   "cell_type": "markdown",
   "id": "a3MPHNmM_qLe",
   "metadata": {
    "id": "a3MPHNmM_qLe"
   },
   "source": [
    "Para facilitarme el desarrollo de este cuaderno de Jupyter, decidi crear un repositorio de Github en el cual se encuentre el conjunto de datos además de una versión de este cuaderno y algunos enlaces útiles para este proyecto final. Además de un cuaderno colab en cual empece a desarrollar este trabajo. https://drive.google.com/file/d/1fCRprLZ0dZ0TPQUzaRxjIO7ymH_5ze4F/view?usp=drive_link\n"
   ]
  },
  {
   "cell_type": "code",
   "execution_count": 1,
   "id": "2WefJy_KAE-1",
   "metadata": {
    "colab": {
     "base_uri": "https://localhost:8080/",
     "height": 0
    },
    "executionInfo": {
     "elapsed": 1176,
     "status": "ok",
     "timestamp": 1732465810465,
     "user": {
      "displayName": "Christian luna",
      "userId": "06080196293809662028"
     },
     "user_tz": -60
    },
    "id": "2WefJy_KAE-1",
    "outputId": "daaa0a05-1ad3-4499-a288-e67db1105c33"
   },
   "outputs": [
    {
     "name": "stdout",
     "output_type": "stream",
     "text": [
      "Clonando en 'proyecto-final-ibm-ia'...\n",
      "remote: Enumerating objects: 13, done.\u001b[K\n",
      "remote: Counting objects: 100% (13/13), done.\u001b[K\n",
      "remote: Compressing objects: 100% (10/10), done.\u001b[K\n",
      "remote: Total 13 (delta 2), reused 10 (delta 2), pack-reused 0 (from 0)\u001b[K\n",
      "Desempaquetando objetos: 100% (13/13), 4.65 KiB | 1.55 MiB/s, listo.\n"
     ]
    }
   ],
   "source": [
    "!git clone https://github.com/ChrisLe7/proyecto-final-ibm-ia.git"
   ]
  },
  {
   "cell_type": "markdown",
   "id": "K3is-ZlvAM-E",
   "metadata": {
    "id": "K3is-ZlvAM-E"
   },
   "source": [
    "Una vez clonado el repositorio podemos utilizar la siguiente variable para almacenar el path del dataset."
   ]
  },
  {
   "cell_type": "code",
   "execution_count": 3,
   "id": "_mymOuN4AMRs",
   "metadata": {
    "id": "_mymOuN4AMRs"
   },
   "outputs": [],
   "source": [
    "path_file = \"proyecto-final-ibm-ia/data/creditcard.csv\""
   ]
  },
  {
   "cell_type": "markdown",
   "id": "6795d0c1",
   "metadata": {
    "id": "6795d0c1"
   },
   "source": [
    "### Importa las bibliotecas necesarias"
   ]
  },
  {
   "cell_type": "markdown",
   "id": "e9M5CHPDw43G",
   "metadata": {
    "id": "e9M5CHPDw43G"
   },
   "source": [
    "Lo primero que debemos de hacer para poder realizar todas las tareas que se nos piden en este proyecto final es importar las bibliotecas esenciales para el análisis de los datos, tratamiento de los datos y entrenamiento de los modelos."
   ]
  },
  {
   "cell_type": "code",
   "execution_count": null,
   "id": "2eb4d791",
   "metadata": {
    "executionInfo": {
     "elapsed": 5703,
     "status": "ok",
     "timestamp": 1732469582524,
     "user": {
      "displayName": "Christian luna",
      "userId": "06080196293809662028"
     },
     "user_tz": -60
    },
    "id": "2eb4d791"
   },
   "outputs": [],
   "source": [
    "# Importa la bibliotecas necesarias\n",
    "import pandas as pd\n",
    "import numpy as np\n",
    "import matplotlib.pyplot as plt\n",
    "import seaborn as sns\n",
    "\n",
    "# Bibliotecas para los modelos\n",
    "from sklearn.model_selection import train_test_split  # Para dividir el conjunto de datos\n",
    "from sklearn.ensemble import RandomForestClassifier   # Modelo de Bosque Aleatorio\n",
    "from sklearn.linear_model import LogisticRegression   # Modelo de Regresión Logística\n",
    "from sklearn.metrics import classification_report, confusion_matrix, accuracy_score  # Evaluación\n",
    "import xgboost as xgb\n",
    "from sklearn.utils import resample\n",
    "from imblearn.over_sampling import SMOTE\n",
    "\n",
    "import shap\n",
    "\n",
    "import warnings\n",
    "warnings.filterwarnings(\"ignore\")"
   ]
  },
  {
   "cell_type": "markdown",
   "id": "c4134d12",
   "metadata": {
    "id": "c4134d12"
   },
   "source": [
    "### Importa y organiza el dataset"
   ]
  },
  {
   "cell_type": "markdown",
   "id": "-XDsgsJHxHHe",
   "metadata": {
    "id": "-XDsgsJHxHHe"
   },
   "source": [
    "Después debemos de cargar el archivo `.csv` y cargarlo en un DataFrame de pandas para poder analizarlo."
   ]
  },
  {
   "cell_type": "code",
   "execution_count": 5,
   "id": "29b35f75",
   "metadata": {
    "colab": {
     "base_uri": "https://localhost:8080/",
     "height": 236
    },
    "executionInfo": {
     "elapsed": 2935,
     "status": "ok",
     "timestamp": 1732469585457,
     "user": {
      "displayName": "Christian luna",
      "userId": "06080196293809662028"
     },
     "user_tz": -60
    },
    "id": "29b35f75",
    "outputId": "dda14329-cd2e-47ce-cca7-185adbb2c741"
   },
   "outputs": [
    {
     "data": {
      "text/html": [
       "<div>\n",
       "<style scoped>\n",
       "    .dataframe tbody tr th:only-of-type {\n",
       "        vertical-align: middle;\n",
       "    }\n",
       "\n",
       "    .dataframe tbody tr th {\n",
       "        vertical-align: top;\n",
       "    }\n",
       "\n",
       "    .dataframe thead th {\n",
       "        text-align: right;\n",
       "    }\n",
       "</style>\n",
       "<table border=\"1\" class=\"dataframe\">\n",
       "  <thead>\n",
       "    <tr style=\"text-align: right;\">\n",
       "      <th></th>\n",
       "      <th>Time</th>\n",
       "      <th>V1</th>\n",
       "      <th>V2</th>\n",
       "      <th>V3</th>\n",
       "      <th>V4</th>\n",
       "      <th>V5</th>\n",
       "      <th>V6</th>\n",
       "      <th>V7</th>\n",
       "      <th>V8</th>\n",
       "      <th>V9</th>\n",
       "      <th>...</th>\n",
       "      <th>V21</th>\n",
       "      <th>V22</th>\n",
       "      <th>V23</th>\n",
       "      <th>V24</th>\n",
       "      <th>V25</th>\n",
       "      <th>V26</th>\n",
       "      <th>V27</th>\n",
       "      <th>V28</th>\n",
       "      <th>Amount</th>\n",
       "      <th>Class</th>\n",
       "    </tr>\n",
       "  </thead>\n",
       "  <tbody>\n",
       "    <tr>\n",
       "      <th>0</th>\n",
       "      <td>0.0</td>\n",
       "      <td>-1.359807</td>\n",
       "      <td>-0.072781</td>\n",
       "      <td>2.536347</td>\n",
       "      <td>1.378155</td>\n",
       "      <td>-0.338321</td>\n",
       "      <td>0.462388</td>\n",
       "      <td>0.239599</td>\n",
       "      <td>0.098698</td>\n",
       "      <td>0.363787</td>\n",
       "      <td>...</td>\n",
       "      <td>-0.018307</td>\n",
       "      <td>0.277838</td>\n",
       "      <td>-0.110474</td>\n",
       "      <td>0.066928</td>\n",
       "      <td>0.128539</td>\n",
       "      <td>-0.189115</td>\n",
       "      <td>0.133558</td>\n",
       "      <td>-0.021053</td>\n",
       "      <td>149.62</td>\n",
       "      <td>0</td>\n",
       "    </tr>\n",
       "    <tr>\n",
       "      <th>1</th>\n",
       "      <td>0.0</td>\n",
       "      <td>1.191857</td>\n",
       "      <td>0.266151</td>\n",
       "      <td>0.166480</td>\n",
       "      <td>0.448154</td>\n",
       "      <td>0.060018</td>\n",
       "      <td>-0.082361</td>\n",
       "      <td>-0.078803</td>\n",
       "      <td>0.085102</td>\n",
       "      <td>-0.255425</td>\n",
       "      <td>...</td>\n",
       "      <td>-0.225775</td>\n",
       "      <td>-0.638672</td>\n",
       "      <td>0.101288</td>\n",
       "      <td>-0.339846</td>\n",
       "      <td>0.167170</td>\n",
       "      <td>0.125895</td>\n",
       "      <td>-0.008983</td>\n",
       "      <td>0.014724</td>\n",
       "      <td>2.69</td>\n",
       "      <td>0</td>\n",
       "    </tr>\n",
       "    <tr>\n",
       "      <th>2</th>\n",
       "      <td>1.0</td>\n",
       "      <td>-1.358354</td>\n",
       "      <td>-1.340163</td>\n",
       "      <td>1.773209</td>\n",
       "      <td>0.379780</td>\n",
       "      <td>-0.503198</td>\n",
       "      <td>1.800499</td>\n",
       "      <td>0.791461</td>\n",
       "      <td>0.247676</td>\n",
       "      <td>-1.514654</td>\n",
       "      <td>...</td>\n",
       "      <td>0.247998</td>\n",
       "      <td>0.771679</td>\n",
       "      <td>0.909412</td>\n",
       "      <td>-0.689281</td>\n",
       "      <td>-0.327642</td>\n",
       "      <td>-0.139097</td>\n",
       "      <td>-0.055353</td>\n",
       "      <td>-0.059752</td>\n",
       "      <td>378.66</td>\n",
       "      <td>0</td>\n",
       "    </tr>\n",
       "    <tr>\n",
       "      <th>3</th>\n",
       "      <td>1.0</td>\n",
       "      <td>-0.966272</td>\n",
       "      <td>-0.185226</td>\n",
       "      <td>1.792993</td>\n",
       "      <td>-0.863291</td>\n",
       "      <td>-0.010309</td>\n",
       "      <td>1.247203</td>\n",
       "      <td>0.237609</td>\n",
       "      <td>0.377436</td>\n",
       "      <td>-1.387024</td>\n",
       "      <td>...</td>\n",
       "      <td>-0.108300</td>\n",
       "      <td>0.005274</td>\n",
       "      <td>-0.190321</td>\n",
       "      <td>-1.175575</td>\n",
       "      <td>0.647376</td>\n",
       "      <td>-0.221929</td>\n",
       "      <td>0.062723</td>\n",
       "      <td>0.061458</td>\n",
       "      <td>123.50</td>\n",
       "      <td>0</td>\n",
       "    </tr>\n",
       "    <tr>\n",
       "      <th>4</th>\n",
       "      <td>2.0</td>\n",
       "      <td>-1.158233</td>\n",
       "      <td>0.877737</td>\n",
       "      <td>1.548718</td>\n",
       "      <td>0.403034</td>\n",
       "      <td>-0.407193</td>\n",
       "      <td>0.095921</td>\n",
       "      <td>0.592941</td>\n",
       "      <td>-0.270533</td>\n",
       "      <td>0.817739</td>\n",
       "      <td>...</td>\n",
       "      <td>-0.009431</td>\n",
       "      <td>0.798278</td>\n",
       "      <td>-0.137458</td>\n",
       "      <td>0.141267</td>\n",
       "      <td>-0.206010</td>\n",
       "      <td>0.502292</td>\n",
       "      <td>0.219422</td>\n",
       "      <td>0.215153</td>\n",
       "      <td>69.99</td>\n",
       "      <td>0</td>\n",
       "    </tr>\n",
       "  </tbody>\n",
       "</table>\n",
       "<p>5 rows × 31 columns</p>\n",
       "</div>"
      ],
      "text/plain": [
       "   Time        V1        V2        V3        V4        V5        V6        V7  \\\n",
       "0   0.0 -1.359807 -0.072781  2.536347  1.378155 -0.338321  0.462388  0.239599   \n",
       "1   0.0  1.191857  0.266151  0.166480  0.448154  0.060018 -0.082361 -0.078803   \n",
       "2   1.0 -1.358354 -1.340163  1.773209  0.379780 -0.503198  1.800499  0.791461   \n",
       "3   1.0 -0.966272 -0.185226  1.792993 -0.863291 -0.010309  1.247203  0.237609   \n",
       "4   2.0 -1.158233  0.877737  1.548718  0.403034 -0.407193  0.095921  0.592941   \n",
       "\n",
       "         V8        V9  ...       V21       V22       V23       V24       V25  \\\n",
       "0  0.098698  0.363787  ... -0.018307  0.277838 -0.110474  0.066928  0.128539   \n",
       "1  0.085102 -0.255425  ... -0.225775 -0.638672  0.101288 -0.339846  0.167170   \n",
       "2  0.247676 -1.514654  ...  0.247998  0.771679  0.909412 -0.689281 -0.327642   \n",
       "3  0.377436 -1.387024  ... -0.108300  0.005274 -0.190321 -1.175575  0.647376   \n",
       "4 -0.270533  0.817739  ... -0.009431  0.798278 -0.137458  0.141267 -0.206010   \n",
       "\n",
       "        V26       V27       V28  Amount  Class  \n",
       "0 -0.189115  0.133558 -0.021053  149.62      0  \n",
       "1  0.125895 -0.008983  0.014724    2.69      0  \n",
       "2 -0.139097 -0.055353 -0.059752  378.66      0  \n",
       "3 -0.221929  0.062723  0.061458  123.50      0  \n",
       "4  0.502292  0.219422  0.215153   69.99      0  \n",
       "\n",
       "[5 rows x 31 columns]"
      ]
     },
     "execution_count": 5,
     "metadata": {},
     "output_type": "execute_result"
    }
   ],
   "source": [
    "df = pd.read_csv(path_file)\n",
    "\n",
    "# Visualizar las primeras filas del dataset para entender su estructura\n",
    "df.head()"
   ]
  },
  {
   "cell_type": "markdown",
   "id": "f4bd8703",
   "metadata": {
    "id": "f4bd8703"
   },
   "source": [
    "\n",
    "<details><summary><b>Haz clic aquí para obtener una pista</b></summary>\n",
    "\n",
    "\n",
    "\n",
    "```\n",
    "Comienza por importar la biblioteca de pandas: import pandas as pd.\n",
    "    \n",
    "Utiliza la función read_csv() para cargar el archivo CSV en un dataframe de pandas. Especifica la ruta en los paréntesis, por ejemplo: pd.read_csv(\"ruta_al_archivo.csv\").\n",
    "    \n",
    "Asigna al dataframe resultante al nombre de una variable, por ejemplo: data = pd.read_csv(\"ruta_al_archivo.csv\").\n",
    "    \n",
    "Utiliza el método head() sobre el dataframe para mostrar las primeras 10 filas, por ejemplo: data.head(10).\n",
    "    \n",
    "Asegúrate de reemplazar \"ruta_al_archivo.csv\" con la ruta real a tu archivo y el nombre de tu archivo CSV..\n",
    "\n",
    "```\n",
    "\n",
    "\n",
    "\n",
    "</details>"
   ]
  },
  {
   "cell_type": "markdown",
   "id": "3d4fe1a9",
   "metadata": {
    "id": "3d4fe1a9"
   },
   "source": [
    "### Limpia los datos"
   ]
  },
  {
   "cell_type": "markdown",
   "id": "fe00f5bd",
   "metadata": {
    "id": "fe00f5bd"
   },
   "source": [
    "a. Valores perdidos"
   ]
  },
  {
   "cell_type": "markdown",
   "id": "sShkMt_g8SBC",
   "metadata": {
    "id": "sShkMt_g8SBC"
   },
   "source": [
    "Para ellos, comprobaré si existen valores perdidos, ya que estos pueden afectar el análisis. Si existen, debería de eliminarlos o imputarlos (utilizando para ello algún tipo de estadístico (media o mediana))."
   ]
  },
  {
   "cell_type": "code",
   "execution_count": 6,
   "id": "efd10e6f",
   "metadata": {
    "colab": {
     "base_uri": "https://localhost:8080/",
     "height": 84
    },
    "executionInfo": {
     "elapsed": 5,
     "status": "ok",
     "timestamp": 1732469585457,
     "user": {
      "displayName": "Christian luna",
      "userId": "06080196293809662028"
     },
     "user_tz": -60
    },
    "id": "efd10e6f",
    "outputId": "41163500-d48f-4ac9-9ee9-b002cab1310e"
   },
   "outputs": [
    {
     "data": {
      "text/plain": [
       "Series([], dtype: int64)"
      ]
     },
     "execution_count": 6,
     "metadata": {},
     "output_type": "execute_result"
    }
   ],
   "source": [
    "# Verificar la presencia de valores nulos\n",
    "missing_values = df.isnull().sum()\n",
    "\n",
    "# Mostrar las columnas que tienen valores nulos\n",
    "missing_values[missing_values > 0]"
   ]
  },
  {
   "cell_type": "markdown",
   "id": "f377dddf",
   "metadata": {
    "id": "f377dddf"
   },
   "source": [
    "<details><summary><b>Haz clic aquí para obtener una pista</b></summary>\n",
    "\n",
    "\n",
    "\n",
    "```\n",
    "\n",
    "Utiliza el nombre de la variable del dataframe seguido del método isnull() para crear un dataframe booleano donde «verdadero» indique un valor nulo y «falso» indique un valor no nulo.\n",
    "\n",
    "Utiliza el método sum() en el dataframe booleano para contar la cantidad de valores verdaderos (i.e., la cantidad de valores nulos) en cada columna.\n",
    "\n",
    "Si unes ambos pasos, el código se verá así: data.isnull().sum()\n",
    "\n",
    "\n",
    "Este código asume que el nombre del datafrme de pandas es «data». Si tu dataframe tiene un nombre diferente, reemplaza «data» con el nombre correcto de la variable.\n",
    "\n",
    "```\n",
    "\n",
    "\n",
    "\n",
    "</details>"
   ]
  },
  {
   "cell_type": "markdown",
   "id": "4516036d",
   "metadata": {
    "id": "4516036d"
   },
   "source": [
    "b. Datos duplicados"
   ]
  },
  {
   "cell_type": "markdown",
   "id": "EE5a2ECV8oJr",
   "metadata": {
    "id": "EE5a2ECV8oJr"
   },
   "source": [
    "Para verificar los valores perdidos, podemos utilizar la propia función de un DataFrame de `duplicated`` la cual comprueba si existen \"filas\" cuyos todos los valores sean iguales."
   ]
  },
  {
   "cell_type": "code",
   "execution_count": 7,
   "id": "da501911",
   "metadata": {
    "colab": {
     "base_uri": "https://localhost:8080/"
    },
    "executionInfo": {
     "elapsed": 1057,
     "status": "ok",
     "timestamp": 1732469586510,
     "user": {
      "displayName": "Christian luna",
      "userId": "06080196293809662028"
     },
     "user_tz": -60
    },
    "id": "da501911",
    "outputId": "3b30d28d-2bec-4817-dbf9-34305f2d6923"
   },
   "outputs": [
    {
     "data": {
      "text/plain": [
       "np.int64(1081)"
      ]
     },
     "execution_count": 7,
     "metadata": {},
     "output_type": "execute_result"
    }
   ],
   "source": [
    "#Escribe tu código aquí\n",
    "# Verificar y contar los datos duplicados\n",
    "duplicated_rows = df.duplicated().sum()\n",
    "duplicated_rows"
   ]
  },
  {
   "cell_type": "markdown",
   "id": "3b028638",
   "metadata": {
    "id": "3b028638"
   },
   "source": [
    "<details><summary><b>Haz clic aquí para obtener una pista</b></summary>\n",
    "\n",
    "\n",
    "\n",
    "```\n",
    "Usa el nombre de la variable del dataframe seguido del método duplicated() para crear un dataframe booleano donde «verdadero» indicará una fila duplicada y «falso» una fila no duplicada.\n",
    "\n",
    "Usa el método sum() en el dataframe booleano para contar la cantidad de valores verdaderos (i.e., la cantidad de filas duplicadas).\n",
    "\n",
    "Si unes ambos pasos, el código se verá así: data.duplicated().sum()\n",
    "\n",
    "Este código asume que el nombre del dataframe de pandas es «data». Si tu dataframe tiene un nombre diferente, reemplaza «data» con el nombre correcto de la variable.\n",
    "\n",
    "```\n",
    "\n",
    "\n",
    "\n",
    "</details>"
   ]
  },
  {
   "cell_type": "markdown",
   "id": "b5119181",
   "metadata": {
    "id": "b5119181"
   },
   "source": [
    "### Analiza los datos"
   ]
  },
  {
   "cell_type": "markdown",
   "id": "5f9d6331",
   "metadata": {
    "id": "5f9d6331"
   },
   "source": [
    "Pregunta 1: ¿Cuál es el porcentaje de transacciones fraudulentas en el dataset?\n",
    "\n"
   ]
  },
  {
   "cell_type": "markdown",
   "id": "Ejq4yNlW8yRl",
   "metadata": {
    "id": "Ejq4yNlW8yRl"
   },
   "source": [
    "Para responder a esta pregunta, calcularé el porcentaje de transacciones en las que se ha identificado fraude. Normalmente, los datasets de fraude etiquetan las transacciones fraudulentas con un valor binario (0 o 1) en una columna específica.\n",
    "\n",
    "Esto se puede realizar de difeentes formas, mediante la propia suma"
   ]
  },
  {
   "cell_type": "code",
   "execution_count": 8,
   "id": "fc08822c",
   "metadata": {
    "colab": {
     "base_uri": "https://localhost:8080/"
    },
    "executionInfo": {
     "elapsed": 3,
     "status": "ok",
     "timestamp": 1732469586510,
     "user": {
      "displayName": "Christian luna",
      "userId": "06080196293809662028"
     },
     "user_tz": -60
    },
    "id": "fc08822c",
    "outputId": "eb255391-eba8-4420-fd33-93fa1ca184f1"
   },
   "outputs": [
    {
     "name": "stdout",
     "output_type": "stream",
     "text": [
      "Class\n",
      "0    99.827251\n",
      "1     0.172749\n",
      "Name: count, dtype: float64\n"
     ]
    }
   ],
   "source": [
    "# Calcula el porcentaje de transacciones fraudulentas\n",
    "fraud_percentage = (df.Class.value_counts() / len(df)) * 100\n",
    "# Esta es otra forma de hacerlo\n",
    "# fraud_percentage = (df['Class'].sum() / len(df)) * 100\n",
    "\n",
    "# Muestra el porcentaje de transacciones fraudulentas\n",
    "print(fraud_percentage)"
   ]
  },
  {
   "cell_type": "markdown",
   "id": "7446af09",
   "metadata": {
    "id": "7446af09"
   },
   "source": [
    "<details>\n",
    "  <summary><b>Haz clic aquí para obtener una pista</b></summary>\n",
    "\n",
    "    Para calcular el porcentaje de transacciones fraudulentas, debes contar la cantidad de transacciones fraudulentas (aquellas donde «Class» es igual a 1) y dividirla por le número total de transacciones en el dataset. Después, multiplica el resultado por 100 para obtener el porcentaje.\n",
    "</details>"
   ]
  },
  {
   "cell_type": "markdown",
   "id": "906ae755",
   "metadata": {
    "id": "906ae755"
   },
   "source": [
    "Pregunta 2: ¿Cuál es el importe medio de las transacciones fraudulentas?\n",
    "\n"
   ]
  },
  {
   "cell_type": "markdown",
   "id": "oeUnbIUK9KW2",
   "metadata": {
    "id": "oeUnbIUK9KW2"
   },
   "source": [
    "Aquí obtendré el valor promedio de las transacciones fraudulentas. Esto ayuda a entender la magnitud del fraude."
   ]
  },
  {
   "cell_type": "code",
   "execution_count": 9,
   "id": "38993dc8",
   "metadata": {
    "colab": {
     "base_uri": "https://localhost:8080/"
    },
    "executionInfo": {
     "elapsed": 2,
     "status": "ok",
     "timestamp": 1732469586510,
     "user": {
      "displayName": "Christian luna",
      "userId": "06080196293809662028"
     },
     "user_tz": -60
    },
    "id": "38993dc8",
    "outputId": "144cfeac-f5a0-44a3-876d-e63c2796effe"
   },
   "outputs": [
    {
     "name": "stdout",
     "output_type": "stream",
     "text": [
      "122.21132113821139\n"
     ]
    }
   ],
   "source": [
    "# Calcula el importe medio de las transacciones fraudulentas\n",
    "\n",
    "average_fraud_amount = df[df['Class'] == 1]['Amount'].mean()\n",
    "# También se puede realizar de esta otra forma\n",
    "# average_fraud_amount = df[df.Class == 1].Amount.mean()\n",
    "\n",
    "# Muestra el importe medio de las transacciones fraudulentas\n",
    "print(average_fraud_amount)"
   ]
  },
  {
   "cell_type": "markdown",
   "id": "28d63dff",
   "metadata": {
    "id": "28d63dff"
   },
   "source": [
    "<details>\n",
    "  <summary><b>Haz clic aquí para obtener una pista</b></summary>\n",
    "\n",
    "    Para calcular el importe medio de las tansacciones fraudulentas, primero deberás filtrar el dataset para que contenga solamente las transacciones fraudulentas (aquellas donde «Class» es igual a 1) y, después, calcular la media de la columna «Amount» de los datos filtrados.\n",
    "</details>"
   ]
  },
  {
   "cell_type": "markdown",
   "id": "4c947f70",
   "metadata": {
    "id": "4c947f70"
   },
   "source": [
    "### Visualiza los datos"
   ]
  },
  {
   "cell_type": "markdown",
   "id": "02753134",
   "metadata": {
    "id": "02753134"
   },
   "source": [
    "\n",
    "Pregunta 1: ¿Cuántas transacciones fraudulentas hay en comparación con las no fraudulentas? (Utiliza un gráfico de barras)"
   ]
  },
  {
   "cell_type": "code",
   "execution_count": 10,
   "id": "65747ac7",
   "metadata": {
    "colab": {
     "base_uri": "https://localhost:8080/",
     "height": 572
    },
    "executionInfo": {
     "elapsed": 664,
     "status": "ok",
     "timestamp": 1732469587172,
     "user": {
      "displayName": "Christian luna",
      "userId": "06080196293809662028"
     },
     "user_tz": -60
    },
    "id": "65747ac7",
    "outputId": "abf6ac0a-773b-43bc-b71e-3f10492748de"
   },
   "outputs": [
    {
     "data": {
      "image/png": "[encoded data removed]",
      "text/plain": [
       "<Figure size 800x600 with 1 Axes>"
      ]
     },
     "metadata": {},
     "output_type": "display_data"
    }
   ],
   "source": [
    "# Cuenta el número de transacciones fraudulentas y no fraudulentes\n",
    "fraud_counts = df['Class'].value_counts()\n",
    "\n",
    "# Muestra la distribución de las traducciones fraudulentas con respecto de las no fraudulentas\n",
    "plt.figure(figsize=(8, 6))\n",
    "plt.bar(['No Fraudulentas', 'Fraudulentas'], fraud_counts, color=['skyblue', 'salmon'], edgecolor='black')\n",
    "plt.title('Comparación de Transacciones Fraudulentas y No Fraudulentas', fontsize=14, fontweight='bold')\n",
    "plt.xlabel('Tipo de Transacción', fontsize=12)\n",
    "plt.ylabel('Número de Transacciones', fontsize=12)\n",
    "plt.grid(axis='y', linestyle='--', alpha=0.7)\n",
    "plt.xticks(fontsize=11)\n",
    "plt.yticks(fontsize=11)\n",
    "plt.show()\n"
   ]
  },
  {
   "cell_type": "markdown",
   "id": "3fyG5KV2-_MC",
   "metadata": {
    "id": "3fyG5KV2-_MC"
   },
   "source": [
    "Si vemos este gráfico, podemos apreciar un claro desequilibrio entre las transacciones fraudulentas y las no fraudulentas, con las no fraudulentas superando en número a las fraudulentas. Por este motivo, deberiamos a la hora de realizar un entrenamiento de un modelo de machine learing, aplicar técnicas de balanceo de los datos para realizar una mejor clasificación."
   ]
  },
  {
   "cell_type": "markdown",
   "id": "bdd4df45",
   "metadata": {
    "id": "bdd4df45"
   },
   "source": [
    "<details>\n",
    "  <summary><b>Haz clic aquí para obtener una pista</b></summary>\n",
    "\n",
    "    Para crear un gráfico de barras que muestre la cantidad de transacciones fraudulentas y no fraudulentas, deberás contar las veces que ocurre cada clase (fraude y no fraude) según la información de la columna «Class» y después representar estos recuentos en un gráfico de barras.\n",
    "</details>"
   ]
  },
  {
   "cell_type": "markdown",
   "id": "6a282afc",
   "metadata": {
    "id": "6a282afc"
   },
   "source": [
    "Pregunta 2: ¿Cuál es la distribución de los importes de las transacciones fraudulentas? (Utiliza un histograma)\n"
   ]
  },
  {
   "cell_type": "code",
   "execution_count": 11,
   "id": "97a8b8b2",
   "metadata": {
    "colab": {
     "base_uri": "https://localhost:8080/",
     "height": 571
    },
    "executionInfo": {
     "elapsed": 452,
     "status": "ok",
     "timestamp": 1732469587622,
     "user": {
      "displayName": "Christian luna",
      "userId": "06080196293809662028"
     },
     "user_tz": -60
    },
    "id": "97a8b8b2",
    "outputId": "ac2e04fb-355e-4642-c331-607b1d8bfebe"
   },
   "outputs": [
    {
     "data": {
      "image/png": "[encoded data removed]",
      "text/plain": [
       "<Figure size 800x600 with 1 Axes>"
      ]
     },
     "metadata": {},
     "output_type": "display_data"
    }
   ],
   "source": [
    "# Separa los datos de transacciones fraudulentas\n",
    "fraud_transactions = df[df['Class'] == 1]['Amount']\n",
    "\n",
    "# Muestra la distribución de los importes de las transacciones fraudulentas\n",
    "plt.figure(figsize=(8, 6))\n",
    "plt.hist(fraud_transactions, bins=30, color='salmon', edgecolor='black', alpha=0.85)\n",
    "plt.title('Distribución de los Importes de las Transacciones Fraudulentas', fontsize=14, fontweight='bold')\n",
    "plt.xlabel('Importe', fontsize=12)\n",
    "plt.ylabel('Frecuencia', fontsize=12)\n",
    "plt.grid(axis='y', linestyle='--', alpha=0.7)\n",
    "plt.xticks(fontsize=11)\n",
    "plt.yticks(fontsize=11)\n",
    "plt.show()"
   ]
  },
  {
   "cell_type": "markdown",
   "id": "GfPbrXmZ_L-_",
   "metadata": {
    "id": "GfPbrXmZ_L-_"
   },
   "source": [
    "El histograma muestra cómo se distribuyen los importes de las transacciones fraudulentas, con una mayor frecuencia en los importes más bajos y una menor frecuencia en los importes más altos."
   ]
  },
  {
   "cell_type": "markdown",
   "id": "74ede115",
   "metadata": {
    "id": "74ede115"
   },
   "source": [
    "<details>\n",
    "  <summary><b>Haz clic aquí para obtener una pista</b></summary>\n",
    "    \n",
    "    Para visualizar la distribución de los importes de las transacciones fraudulentas, deberás filtrar el dataset para que contenga únicamente las transacciones fraudulentas (aquellas donde «Class» es igual a 1) y, después, usar un histograma para representar la distribución de los valores de la columna «Amount» de los datos filtrados.\n",
    "</details>"
   ]
  },
  {
   "cell_type": "markdown",
   "id": "e645de69",
   "metadata": {
    "id": "e645de69"
   },
   "source": [
    "## Desarrollo y evaluación de modelos"
   ]
  },
  {
   "cell_type": "markdown",
   "id": "5ad482f1",
   "metadata": {
    "id": "5ad482f1"
   },
   "source": [
    "### Separa del dataset"
   ]
  },
  {
   "cell_type": "code",
   "execution_count": 12,
   "id": "d7e57b15",
   "metadata": {
    "executionInfo": {
     "elapsed": 887,
     "status": "ok",
     "timestamp": 1732469588507,
     "user": {
      "displayName": "Christian luna",
      "userId": "06080196293809662028"
     },
     "user_tz": -60
    },
    "id": "d7e57b15"
   },
   "outputs": [],
   "source": [
    "from sklearn.model_selection import train_test_split\n",
    "# Separa los datos de entrenamiento y evaluación\n",
    "X = df.drop('Class', axis=1)\n",
    "y = df['Class']\n",
    "\n",
    "# Dividir el dataset en conjuntos de entrenamiento y prueba\n",
    "X_train, X_test, y_train, y_test = train_test_split(X, y, test_size=0.2, random_state=42, stratify=y)\n"
   ]
  },
  {
   "cell_type": "markdown",
   "id": "1f0788d4",
   "metadata": {
    "id": "1f0788d4"
   },
   "source": [
    "<details><summary><b>Haz clic aquí para obtener una pista</b></summary>\n",
    "\n",
    "\n",
    "\n",
    "```\n",
    "Una vez que tegas este dataset, puedes utilizar la biblioteca scikit-learn para separar los datos en grupos de entrenamiento y de evaluación con la función train_test_split().\n",
    "\n",
    "Primero, puedes crear un dataframe de pandas «X» con todas las columnas excepto la columna «Class». Puedes crear una serie de pandas «y» solamente con la clumna «Class» column.\n",
    "\n",
    "A continuación, pueder usar la función train_test_split() para separar los datos en grupos de entrenamiento y de evaluación. Puedes pasar las variables X e Y como argumentos junto con el argumento test_size para especificar el porcentaje del dataset que se deberá asignar al grupo de evaluación (en este caso, el 20 %). También puedes utilizar el argumento random_state para determinar un valor fijo de tal manera que, cada vez que se ejecute el código, se produzca la misma división.\n",
    "\n",
    "La función train_test_split() devuelve cuatro variables: X_train, X_test, y_train y y_test. X_train e y_train representan el grupo de entrenamiento, minetras que X_test e y_test representan el grupo de evaluación. Puedes utilizar estas variable para entrenar y evaluar tus modelos de aprendizaje automático.\n",
    "\n",
    "Ten en cuenta que es importante dividir los datos en grupos de entrenamiento y de evaluación para evitar el sobreajuste y permitir que se evalúe el rendimiento del modelo con datos que desconoce.\n",
    "\n",
    "```\n",
    "\n",
    "\n",
    "\n",
    "</details>"
   ]
  },
  {
   "cell_type": "markdown",
   "id": "ca39893a",
   "metadata": {
    "id": "ca39893a"
   },
   "source": [
    "### Crea y evalúa los modelos"
   ]
  },
  {
   "cell_type": "markdown",
   "id": "rS0ieUsxC_2x",
   "metadata": {
    "id": "rS0ieUsxC_2x"
   },
   "source": [
    "Voy a entrenar dos modelos comunes para este tipo de problema, además de entrenar un modelo más complejo que me permita luego aplicar técnicas de explicabilidad para analizar su comportamiento:\n",
    "\n",
    "- Regresión Logística: Simple, interpretativo y adecuado para detección de fraude.\n",
    "- Bosque Aleatorio: Modelo de ensamble más avanzado, generalmente más preciso en problemas complejos.\n",
    "- XGBoost: Algoritmo de boosting basado en árboles de decisión que suele ofrecer un rendimiento superior, especialmente en problemas desbalanceados. Su capacidad para ajustar pesos a las muestras y minimizar errores iterativamente lo hace muy eficaz en la detección de fraudes. Además, su estructura permite aplicar técnicas de interpretabilidad como SHAP para entender qué variables son las más relevantes para la predicción."
   ]
  },
  {
   "cell_type": "markdown",
   "id": "txfuO3c1DCsG",
   "metadata": {
    "id": "txfuO3c1DCsG"
   },
   "source": [
    "#### Modelo 1: Regresión Logística"
   ]
  },
  {
   "cell_type": "code",
   "execution_count": 13,
   "id": "7iu_uSd0DDpJ",
   "metadata": {
    "executionInfo": {
     "elapsed": 43661,
     "status": "ok",
     "timestamp": 1732469632166,
     "user": {
      "displayName": "Christian luna",
      "userId": "06080196293809662028"
     },
     "user_tz": -60
    },
    "id": "7iu_uSd0DDpJ"
   },
   "outputs": [],
   "source": [
    "# Entrenar modelo de Regresión Logística\n",
    "logistic_model = LogisticRegression(max_iter=1000, random_state=42)\n",
    "logistic_model.fit(X_train, y_train)\n",
    "\n",
    "# Realizar predicciones y evaluar el modelo\n",
    "y_pred_logistic = logistic_model.predict(X_test)\n",
    "logistic_accuracy = accuracy_score(y_test, y_pred_logistic)\n",
    "logistic_report = classification_report(y_test, y_pred_logistic)"
   ]
  },
  {
   "cell_type": "markdown",
   "id": "KLrwOUzTDGI0",
   "metadata": {
    "id": "KLrwOUzTDGI0"
   },
   "source": [
    "#### Modelo 2: Bosque Aleatorio"
   ]
  },
  {
   "cell_type": "code",
   "execution_count": 14,
   "id": "um_cVjVDDGI0",
   "metadata": {
    "executionInfo": {
     "elapsed": 365661,
     "status": "ok",
     "timestamp": 1732469997816,
     "user": {
      "displayName": "Christian luna",
      "userId": "06080196293809662028"
     },
     "user_tz": -60
    },
    "id": "um_cVjVDDGI0"
   },
   "outputs": [],
   "source": [
    "# Entrenar modelo de Bosque Aleatorio\n",
    "rf_model = RandomForestClassifier(random_state=42)\n",
    "rf_model.fit(X_train, y_train)\n",
    "\n",
    "# Realizar predicciones y evaluar el modelo\n",
    "y_pred_rf = rf_model.predict(X_test)\n",
    "rf_accuracy = accuracy_score(y_test, y_pred_rf)\n",
    "rf_report = classification_report(y_test, y_pred_rf)\n"
   ]
  },
  {
   "cell_type": "markdown",
   "id": "TM3bSb5S1qwe",
   "metadata": {
    "id": "TM3bSb5S1qwe"
   },
   "source": [
    "#### Modelo 3. XGBoost con SHAP para explicabilidad"
   ]
  },
  {
   "cell_type": "code",
   "execution_count": 15,
   "id": "kDzXxaET1plB",
   "metadata": {
    "executionInfo": {
     "elapsed": 6787,
     "status": "ok",
     "timestamp": 1732470004592,
     "user": {
      "displayName": "Christian luna",
      "userId": "06080196293809662028"
     },
     "user_tz": -60
    },
    "id": "kDzXxaET1plB"
   },
   "outputs": [],
   "source": [
    "# Entrenar modelo de Bosque Aleatorio\n",
    "xgb_model = xgb.XGBClassifier(use_label_encoder=False, eval_metric='logloss', random_state=42)\n",
    "xgb_model.fit(X_train, y_train)\n",
    "# Realizar predicciones y evaluar el modelo\n",
    "y_pred_xgb = xgb_model.predict(X_test)\n",
    "xgb_accuracy = accuracy_score(y_test, y_pred_xgb)\n",
    "xgb_report = classification_report(y_test, y_pred_xgb)"
   ]
  },
  {
   "cell_type": "markdown",
   "id": "ckuBnMNCDKCg",
   "metadata": {
    "id": "ckuBnMNCDKCg"
   },
   "source": [
    "Voy a ejecutar este código para entrenar ambos modelos y mostrar los resultados de la evaluación, que incluirán el reporte de clasificación y precisión para cada modelo."
   ]
  },
  {
   "cell_type": "code",
   "execution_count": 16,
   "id": "LghLf2QuFoke",
   "metadata": {
    "colab": {
     "base_uri": "https://localhost:8080/"
    },
    "executionInfo": {
     "elapsed": 15,
     "status": "ok",
     "timestamp": 1732470004592,
     "user": {
      "displayName": "Christian luna",
      "userId": "06080196293809662028"
     },
     "user_tz": -60
    },
    "id": "LghLf2QuFoke",
    "outputId": "8dc4f4ec-9c8c-413f-a8c4-5d15c6f6de89"
   },
   "outputs": [
    {
     "name": "stdout",
     "output_type": "stream",
     "text": [
      "Resultados del Modelo 1: Regresión Logística\n",
      "              precision    recall  f1-score   support\n",
      "\n",
      "           0       1.00      1.00      1.00     56864\n",
      "           1       0.84      0.59      0.69        98\n",
      "\n",
      "    accuracy                           1.00     56962\n",
      "   macro avg       0.92      0.80      0.85     56962\n",
      "weighted avg       1.00      1.00      1.00     56962\n",
      "\n",
      "\n",
      " Resultados del Modelo 2: Bosque Aleatorio\n",
      "              precision    recall  f1-score   support\n",
      "\n",
      "           0       1.00      1.00      1.00     56864\n",
      "           1       0.94      0.82      0.87        98\n",
      "\n",
      "    accuracy                           1.00     56962\n",
      "   macro avg       0.97      0.91      0.94     56962\n",
      "weighted avg       1.00      1.00      1.00     56962\n",
      "\n",
      "\n",
      " Resultados del Modelo 3: XGBoost\n",
      "              precision    recall  f1-score   support\n",
      "\n",
      "           0       1.00      1.00      1.00     56864\n",
      "           1       0.92      0.81      0.86        98\n",
      "\n",
      "    accuracy                           1.00     56962\n",
      "   macro avg       0.96      0.90      0.93     56962\n",
      "weighted avg       1.00      1.00      1.00     56962\n",
      "\n"
     ]
    }
   ],
   "source": [
    "print(\"Resultados del Modelo 1: Regresión Logística\")\n",
    "print(logistic_report)\n",
    "print(\"\\n Resultados del Modelo 2: Bosque Aleatorio\")\n",
    "print(rf_report)\n",
    "print(\"\\n Resultados del Modelo 3: XGBoost\")\n",
    "print(xgb_report)"
   ]
  },
  {
   "cell_type": "code",
   "execution_count": 17,
   "id": "319dc249",
   "metadata": {
    "colab": {
     "base_uri": "https://localhost:8080/",
     "height": 1000
    },
    "executionInfo": {
     "elapsed": 619,
     "status": "ok",
     "timestamp": 1732470005208,
     "user": {
      "displayName": "Christian luna",
      "userId": "06080196293809662028"
     },
     "user_tz": -60
    },
    "id": "319dc249",
    "outputId": "2494d8e8-eef1-400d-82a6-5dd86a938920"
   },
   "outputs": [
    {
     "data": {
      "image/png": "[encoded data removed]",
      "text/plain": [
       "<Figure size 600x400 with 1 Axes>"
      ]
     },
     "metadata": {},
     "output_type": "display_data"
    },
    {
     "data": {
      "image/png": "[encoded data removed]",
      "text/plain": [
       "<Figure size 600x400 with 1 Axes>"
      ]
     },
     "metadata": {},
     "output_type": "display_data"
    },
    {
     "data": {
      "image/png": "[encoded data removed]",
      "text/plain": [
       "<Figure size 600x400 with 1 Axes>"
      ]
     },
     "metadata": {},
     "output_type": "display_data"
    }
   ],
   "source": [
    "#Escribe tu código aquí\n",
    "def plot_confusion_matrix(y_true, y_pred, title):\n",
    "    # Calcular la matriz de confusión\n",
    "    cm = confusion_matrix(y_true, y_pred)\n",
    "\n",
    "    # Crear un heatmap con la matriz de confusión\n",
    "    plt.figure(figsize=(6, 4))\n",
    "    sns.heatmap(cm, annot=True, fmt='d', cmap='Blues', cbar=False,\n",
    "                xticklabels=['No Fraud', 'Fraud'], yticklabels=['No Fraud', 'Fraud'])\n",
    "    plt.title(f'Matriz de Confusión: {title}', fontsize=14, fontweight='bold')\n",
    "    plt.xlabel('Predicción')\n",
    "    plt.ylabel('Real')\n",
    "    plt.show()\n",
    "\n",
    "plot_confusion_matrix(y_test, y_pred_logistic, 'Regresión Logística')\n",
    "\n",
    "plot_confusion_matrix(y_test, y_pred_rf, 'Bosque Aleatorio')\n",
    "\n",
    "plot_confusion_matrix(y_test, y_pred_xgb, 'XGBoost')"
   ]
  },
  {
   "cell_type": "markdown",
   "id": "28b719ca",
   "metadata": {
    "id": "28b719ca"
   },
   "source": [
    "<details><summary><b>Haz clic aquí para obtener una pista</b></summary>\n",
    "\n",
    "\n",
    "\n",
    "```\n",
    "Debes haber importado las bibliotecas y clases necesarias, tales como la clase RandomForestClassifier de scikit-learn y las funciones classification_report() y accuracy_score() functions del módulo sklearn.metrics.\n",
    "\n",
    "Una vez hayas hecho esto, podrás crear una instancia de la clase RandomForestClassifier configurando los hiperparámetros max_depth y random_state en 150 y 42, respectivamente. Puedes utilizar el método .fit() para entrenar el modelo con los datos de entrenamiento.\n",
    "\n",
    "A continuación, puedes utilizar el modelo entrenado para hacer predicciones sobre los datos de evaluación con el método .predict(). Puedes almacenar estas predicciones en una variable llamada y_pred.\n",
    "\n",
    "Después, puedes utilizar la función classification_report() para mostrar en la pantalla un resumen del rendimiento del modelo con los datos de entrenamiento. Esto incluirá métricos tales como la precisión (precission), la exhaustividad (recall) y la puntuación F1 (f1-score) para cada una de las clases (en este caso, si una transacción es fraudulenta o normal). También puedes utilizar la función accuracy_score() para calcular la exactitud general del modelo con los datos de evaluación.\n",
    "\n",
    "Finalmente, podrás mostrar la exactitud el modelo en forma de porcentaje; utiliza el operador *100 para multiplicar la puntuación de exactitud por 100.\n",
    "\n",
    "```\n",
    "\n",
    "\n",
    "\n",
    "</details>"
   ]
  },
  {
   "cell_type": "markdown",
   "id": "daJ6m7-E18Do",
   "metadata": {
    "id": "daJ6m7-E18Do"
   },
   "source": [
    "## Interpretabilidad de los modelos"
   ]
  },
  {
   "cell_type": "markdown",
   "id": "Nzi3udqeC6rn",
   "metadata": {
    "id": "Nzi3udqeC6rn"
   },
   "source": [
    "Tras entrenar el modelo, sin realizar un estudio como afecta el desbalanceo de los datos, se decidio analizar estudiar y entender el como afectan las diferentes características de los datos al modelo XGBoost, para ello se decidio utilizar la librería shap que ofrece diferentes métodos y funciones para entenderlo.\n",
    "\n",
    "\n",
    "En primer lugar, crearemos un objeto de la clase explainer usando `shap.Explainer(xgb_model, X_train)`, que configura la explicación basada en el modelo entrenado (`xgb_model`) y los datos de entrenamiento (`X_train`). Luego, se calculan los valores de SHAP para el conjunto de prueba (`X_test`) usando explainer(`X_test`).\n",
    "\n",
    "Con esto podremos luego generar un gráfico con el que se resume la importancia media de cada característica en el modelo, lo cual es útil para interpretar cómo cada variable contribuye al resultado."
   ]
  },
  {
   "cell_type": "code",
   "execution_count": 18,
   "id": "w1n863bx1_ED",
   "metadata": {
    "colab": {
     "base_uri": "https://localhost:8080/",
     "height": 974
    },
    "executionInfo": {
     "elapsed": 195503,
     "status": "ok",
     "timestamp": 1732470200709,
     "user": {
      "displayName": "Christian luna",
      "userId": "06080196293809662028"
     },
     "user_tz": -60
    },
    "id": "w1n863bx1_ED",
    "outputId": "08a47826-c7e3-4c52-ed56-78afc8cc3ef1"
   },
   "outputs": [
    {
     "name": "stderr",
     "output_type": "stream",
     "text": [
      " 99%|===================| 56420/56962 [01:37<00:00]        "
     ]
    },
    {
     "data": {
      "image/png": "[encoded data removed]",
      "text/plain": [
       "<Figure size 800x950 with 1 Axes>"
      ]
     },
     "metadata": {},
     "output_type": "display_data"
    }
   ],
   "source": [
    "explainer = shap.Explainer(xgb_model, X_train)\n",
    "shap_values = explainer(X_test)\n",
    "\n",
    "shap.summary_plot(shap_values, X_test, plot_type=\"bar\")"
   ]
  },
  {
   "cell_type": "markdown",
   "id": "H75HDcTrFKWA",
   "metadata": {
    "id": "H75HDcTrFKWA"
   },
   "source": [
    "Cada barra en el gráfico representa una característica del conjunto de datos, y su longitud indica la magnitud promedio del impacto que esa característica tiene sobre la salida del modelo. En este caso:\n",
    "\n",
    "- V4, V14, y V26 son las características más importantes según el modelo, ya que tienen los valores SHAP promedio más altos. Esto significa que estas variables tienen un impacto significativo en la predicción de fraude.\n",
    "\n",
    "- V8, Time, y V12 también se muestran como relevantes, aunque su impacto medio es menor comparado con las variables líderes.\n",
    "\n",
    "- Las características menos relevantes son aquellas que se encuentran al final de la lista, como V22 y V27, que tienen valores SHAP bajos.\n",
    "\n",
    "La longitud de las barras indica la importancia de cada característica para la predicción promedio del modelo.\n",
    "\n",
    "\n",
    "- Características como V4 y V14 muestran un impacto mayor, lo que sugiere que estas variables juegan un papel fundamental para que el modelo determine si una transacción es fraudulenta.\n",
    "- Time y Amount (Tiempo y Cantidad) también tienen influencia, aunque menor, lo cual es interesante porque permite ver cómo el comportamiento temporal o la cantidad de dinero de la transacción pueden ayudar al modelo a identificar fraudes.\n"
   ]
  },
  {
   "cell_type": "markdown",
   "id": "8nJBmlv9FeC-",
   "metadata": {
    "id": "8nJBmlv9FeC-"
   },
   "source": [
    "El objetivo de este tipo de gráficos es facilitar la interpretabilidad del modelo. Al ser un problema de detección de fraude, es crucial poder explicar por qué un modelo clasifica una transacción como fraudulenta o no. Este nivel de transparencia ayuda a validar los resultados del modelo y a identificar si está aprendiendo patrones legítimos de los datos o si está siendo influenciado por sesgos innecesarios.\n",
    "\n",
    "Este gráfico también permite al equipo de analistas y desarrolladores identificar las características clave que deberían ser objeto de mayor investigación, tanto para mejorar el modelo como para ayudar a los especialistas en negocio a entender qué factores están más relacionados con el fraude.\n",
    "\n",
    "El único inconveniente sería que debido a que las características de los datos están anonimizadas, no podemos saber que representan exactamente estas características."
   ]
  },
  {
   "cell_type": "markdown",
   "id": "C6EwUOxQFy77",
   "metadata": {
    "id": "C6EwUOxQFy77"
   },
   "source": [
    "## Estudio del desbalanceo de los datos"
   ]
  },
  {
   "cell_type": "markdown",
   "id": "SAcjDtcQF18I",
   "metadata": {
    "id": "SAcjDtcQF18I"
   },
   "source": [
    "El desbalanceo de datos ocurre cuando las clases en un conjunto de datos no están representadas equitativamente, es decir, una clase es significativamente más numerosa que otra. En el contexto de la detección de fraudes con tarjetas de crédito, las transacciones fraudulentas suelen ser una minoría en comparación con las transacciones legítimas. Este desbalance puede afectar negativamente el rendimiento de los modelos de aprendizaje automático, ya que estos pueden inclinarse a predecir siempre la clase mayoritaria, ignorando la minoritaria.\n",
    "\n",
    "**Efectos del desbalanceo de datos:**\n",
    "\n",
    "- Sesgo del modelo: Los algoritmos pueden aprender a predecir predominantemente la clase mayoritaria, resultando en una alta precisión aparente pero con un bajo rendimiento en la detección de la clase minoritaria.\n",
    "\n",
    "- Métricas engañosas: Métricas como la precisión pueden ser engañosas en conjuntos de datos desbalanceados. Por ejemplo, si el 99% de las transacciones son legítimas, un modelo que siempre prediga \"legítimo\" tendrá una precisión del 99%, pero no detectará fraudes.\n",
    "\n",
    "Como ocurre en este problema, por este motivo se ha decidido realizar un estudio para ver si aplicando técnicas de desbalanceo se consigue mejorar los resultados de los diferentes modelos.\n",
    "\n",
    "En este caso, se probarán dos alternativas a partir de las particiones de datos ya utilizadas anteriormente.\n",
    "- Utilizar todos los datos de la clase minoritaria y escoger aleatoriamente la misma cantidad de datos de la otra clase. Esto hará que tengamos una distribución del 50-50, pero puede resultar muy sensible a las instancias seleccionadas.\n",
    "- Utilizar el método SMOTE para realizar el preprocesamiento."
   ]
  },
  {
   "cell_type": "markdown",
   "id": "_OcfjRRHKquE",
   "metadata": {
    "id": "_OcfjRRHKquE"
   },
   "source": [
    "### Distribución 50-50"
   ]
  },
  {
   "cell_type": "code",
   "execution_count": 19,
   "id": "6WIROXf9MX_7",
   "metadata": {
    "colab": {
     "base_uri": "https://localhost:8080/"
    },
    "executionInfo": {
     "elapsed": 4,
     "status": "ok",
     "timestamp": 1732470200710,
     "user": {
      "displayName": "Christian luna",
      "userId": "06080196293809662028"
     },
     "user_tz": -60
    },
    "id": "6WIROXf9MX_7",
    "outputId": "f974a53b-5637-413f-93f3-83a2c5e56927"
   },
   "outputs": [
    {
     "name": "stdout",
     "output_type": "stream",
     "text": [
      "Distribución del conjunto de entrenamiento balanceado (50-50):\n",
      "Class\n",
      "1    394\n",
      "0    394\n",
      "Name: count, dtype: int64\n"
     ]
    }
   ],
   "source": [
    "\n",
    "\n",
    "# Crear un dataset balanceado seleccionando aleatoriamente la misma cantidad de datos de ambas clases en el conjunto de entrenamiento\n",
    "fraud_train = X_train[y_train == 1]\n",
    "non_fraud_train = X_train[y_train == 0]\n",
    "\n",
    "# Submuestrear la clase mayoritaria\n",
    "non_fraud_sample = resample(non_fraud_train,\n",
    "                            replace=False,  # No se permite reemplazo\n",
    "                            n_samples=len(fraud_train),  # Igual al tamaño de la clase minoritaria\n",
    "                            random_state=42)  # Para reproducibilidad\n",
    "\n",
    "# Combinar la clase minoritaria con la muestra de la clase mayoritaria\n",
    "X_train_balanced = pd.concat([fraud_train, non_fraud_sample])\n",
    "y_train_balanced = pd.concat([y_train[y_train == 1], y_train[non_fraud_sample.index]])\n",
    "\n",
    "# Verificar la nueva distribución en el conjunto de entrenamiento\n",
    "print(\"Distribución del conjunto de entrenamiento balanceado (50-50):\")\n",
    "print(y_train_balanced.value_counts())"
   ]
  },
  {
   "cell_type": "markdown",
   "id": "w1lt3BWXLv2t",
   "metadata": {
    "id": "w1lt3BWXLv2t"
   },
   "source": [
    "#### Modelo 1: Regresión Logística"
   ]
  },
  {
   "cell_type": "code",
   "execution_count": 20,
   "id": "10quiGo2JiCU",
   "metadata": {
    "executionInfo": {
     "elapsed": 1052,
     "status": "ok",
     "timestamp": 1732470201759,
     "user": {
      "displayName": "Christian luna",
      "userId": "06080196293809662028"
     },
     "user_tz": -60
    },
    "id": "10quiGo2JiCU"
   },
   "outputs": [],
   "source": [
    "# Entrenar modelo de Regresión Logística\n",
    "logistic_model = LogisticRegression(max_iter=1000, random_state=42)\n",
    "logistic_model.fit(X_train_balanced, y_train_balanced)\n",
    "\n",
    "# Realizar predicciones y evaluar el modelo\n",
    "y_pred_logistic = logistic_model.predict(X_test)\n",
    "logistic_accuracy = accuracy_score(y_test, y_pred_logistic)\n",
    "logistic_report = classification_report(y_test, y_pred_logistic)"
   ]
  },
  {
   "cell_type": "markdown",
   "id": "Ks056WteJiCU",
   "metadata": {
    "id": "Ks056WteJiCU"
   },
   "source": [
    "#### Modelo 2: Bosque Aleatorio"
   ]
  },
  {
   "cell_type": "code",
   "execution_count": 21,
   "id": "uM8jCl1JJiCU",
   "metadata": {
    "executionInfo": {
     "elapsed": 1366,
     "status": "ok",
     "timestamp": 1732470203123,
     "user": {
      "displayName": "Christian luna",
      "userId": "06080196293809662028"
     },
     "user_tz": -60
    },
    "id": "uM8jCl1JJiCU"
   },
   "outputs": [],
   "source": [
    "# Entrenar modelo de Bosque Aleatorio\n",
    "rf_model = RandomForestClassifier(random_state=42)\n",
    "rf_model.fit(X_train_balanced, y_train_balanced)\n",
    "\n",
    "# Realizar predicciones y evaluar el modelo\n",
    "y_pred_rf = rf_model.predict(X_test)\n",
    "rf_accuracy = accuracy_score(y_test, y_pred_rf)\n",
    "rf_report = classification_report(y_test, y_pred_rf)\n"
   ]
  },
  {
   "cell_type": "markdown",
   "id": "eRSlcT-6JiCU",
   "metadata": {
    "id": "eRSlcT-6JiCU"
   },
   "source": [
    "#### Modelo 3. XGBoost con SHAP para explicabilidad"
   ]
  },
  {
   "cell_type": "code",
   "execution_count": 22,
   "id": "dv9BxqCtJiCV",
   "metadata": {
    "executionInfo": {
     "elapsed": 627,
     "status": "ok",
     "timestamp": 1732470203748,
     "user": {
      "displayName": "Christian luna",
      "userId": "06080196293809662028"
     },
     "user_tz": -60
    },
    "id": "dv9BxqCtJiCV"
   },
   "outputs": [],
   "source": [
    "# Entrenar modelo de Bosque Aleatorio\n",
    "xgb_model = xgb.XGBClassifier(use_label_encoder=False, eval_metric='logloss', random_state=42)\n",
    "xgb_model.fit(X_train_balanced, y_train_balanced)\n",
    "# Realizar predicciones y evaluar el modelo\n",
    "y_pred_xgb = xgb_model.predict(X_test)\n",
    "xgb_accuracy = accuracy_score(y_test, y_pred_xgb)\n",
    "xgb_report = classification_report(y_test, y_pred_xgb)"
   ]
  },
  {
   "cell_type": "markdown",
   "id": "Iz0EXtVbJiCV",
   "metadata": {
    "id": "Iz0EXtVbJiCV"
   },
   "source": [
    "Voy a ejecutar este código para entrenar ambos modelos y mostrar los resultados de la evaluación, que incluirán el reporte de clasificación y precisión para cada modelo."
   ]
  },
  {
   "cell_type": "code",
   "execution_count": 23,
   "id": "vS4yEyrsJiCV",
   "metadata": {
    "colab": {
     "base_uri": "https://localhost:8080/"
    },
    "executionInfo": {
     "elapsed": 3,
     "status": "ok",
     "timestamp": 1732470203748,
     "user": {
      "displayName": "Christian luna",
      "userId": "06080196293809662028"
     },
     "user_tz": -60
    },
    "id": "vS4yEyrsJiCV",
    "outputId": "090367ee-efd9-4dcd-d96d-027a462b7c31"
   },
   "outputs": [
    {
     "name": "stdout",
     "output_type": "stream",
     "text": [
      "Resultados del Modelo 1: Regresión Logística\n",
      "              precision    recall  f1-score   support\n",
      "\n",
      "           0       1.00      0.96      0.98     56864\n",
      "           1       0.04      0.92      0.08        98\n",
      "\n",
      "    accuracy                           0.96     56962\n",
      "   macro avg       0.52      0.94      0.53     56962\n",
      "weighted avg       1.00      0.96      0.98     56962\n",
      "\n",
      "\n",
      " Resultados del Modelo 2: Bosque Aleatorio\n",
      "              precision    recall  f1-score   support\n",
      "\n",
      "           0       1.00      0.97      0.98     56864\n",
      "           1       0.04      0.93      0.08        98\n",
      "\n",
      "    accuracy                           0.97     56962\n",
      "   macro avg       0.52      0.95      0.53     56962\n",
      "weighted avg       1.00      0.97      0.98     56962\n",
      "\n",
      "\n",
      " Resultados del Modelo 3: XGBoost\n",
      "              precision    recall  f1-score   support\n",
      "\n",
      "           0       1.00      0.95      0.98     56864\n",
      "           1       0.03      0.92      0.06        98\n",
      "\n",
      "    accuracy                           0.95     56962\n",
      "   macro avg       0.52      0.94      0.52     56962\n",
      "weighted avg       1.00      0.95      0.97     56962\n",
      "\n"
     ]
    }
   ],
   "source": [
    "print(\"Resultados del Modelo 1: Regresión Logística\")\n",
    "print(logistic_report)\n",
    "print(\"\\n Resultados del Modelo 2: Bosque Aleatorio\")\n",
    "print(rf_report)\n",
    "print(\"\\n Resultados del Modelo 3: XGBoost\")\n",
    "print(xgb_report)"
   ]
  },
  {
   "cell_type": "code",
   "execution_count": 24,
   "id": "rwHSSDgQJiCV",
   "metadata": {
    "colab": {
     "base_uri": "https://localhost:8080/",
     "height": 1000
    },
    "executionInfo": {
     "elapsed": 413,
     "status": "ok",
     "timestamp": 1732470204158,
     "user": {
      "displayName": "Christian luna",
      "userId": "06080196293809662028"
     },
     "user_tz": -60
    },
    "id": "rwHSSDgQJiCV",
    "outputId": "bbc9cd50-e843-48f0-bceb-5fa8077c04d7"
   },
   "outputs": [
    {
     "data": {
      "image/png": "[encoded data removed]",
      "text/plain": [
       "<Figure size 600x400 with 1 Axes>"
      ]
     },
     "metadata": {},
     "output_type": "display_data"
    },
    {
     "data": {
      "image/png": "[encoded data removed]",
      "text/plain": [
       "<Figure size 600x400 with 1 Axes>"
      ]
     },
     "metadata": {},
     "output_type": "display_data"
    },
    {
     "data": {
      "image/png": "[encoded data removed]",
      "text/plain": [
       "<Figure size 600x400 with 1 Axes>"
      ]
     },
     "metadata": {},
     "output_type": "display_data"
    }
   ],
   "source": [
    "plot_confusion_matrix(y_test, y_pred_logistic, 'Regresión Logística')\n",
    "\n",
    "plot_confusion_matrix(y_test, y_pred_rf, 'Bosque Aleatorio')\n",
    "\n",
    "plot_confusion_matrix(y_test, y_pred_xgb, 'XGBoost')"
   ]
  },
  {
   "cell_type": "markdown",
   "id": "jwHaC_BsRcxn",
   "metadata": {
    "id": "jwHaC_BsRcxn"
   },
   "source": [
    "Como podemos observar al utilizar en enfoque de 50-50, no hemos conseguido mejorar ninguno de los modelos, sino que los hemos empeorado, esto es entendible ya que solamente hemos utilizado al final unas 400 instancias de cada clase, y estas no resultan lo suficiente representativas. Eso si, de esta forma hemos conseguido mejorar la precisión para la clase minoritaria que todos los modelos acierten en más de 90 de las instancias, a costa de fallar en la clase mayoritaría."
   ]
  },
  {
   "cell_type": "markdown",
   "id": "5m1v3ki2MPPA",
   "metadata": {
    "id": "5m1v3ki2MPPA"
   },
   "source": [
    "### Usando SMOTE"
   ]
  },
  {
   "cell_type": "code",
   "execution_count": 25,
   "id": "ACsPOw5TMQcF",
   "metadata": {
    "colab": {
     "base_uri": "https://localhost:8080/"
    },
    "executionInfo": {
     "elapsed": 360,
     "status": "ok",
     "timestamp": 1732470204516,
     "user": {
      "displayName": "Christian luna",
      "userId": "06080196293809662028"
     },
     "user_tz": -60
    },
    "id": "ACsPOw5TMQcF",
    "outputId": "2cfed091-83f7-4ece-d1ef-b9a7481e82c4"
   },
   "outputs": [
    {
     "name": "stdout",
     "output_type": "stream",
     "text": [
      "Distribución del conjunto de entrenamiento balanceado con SMOTE:\n",
      "Class\n",
      "0    227451\n",
      "1    227451\n",
      "Name: count, dtype: int64\n"
     ]
    }
   ],
   "source": [
    "smote = SMOTE(random_state=42)\n",
    "X_train_smote, y_train_smote = smote.fit_resample(X_train, y_train)\n",
    "\n",
    "# Verificar la nueva distribución en el conjunto de entrenamiento\n",
    "print(\"Distribución del conjunto de entrenamiento balanceado con SMOTE:\")\n",
    "print(pd.Series(y_train_smote).value_counts())"
   ]
  },
  {
   "cell_type": "markdown",
   "id": "qPhbesxQORZi",
   "metadata": {
    "id": "qPhbesxQORZi"
   },
   "source": [
    "#### Modelo 1: Regresión Logística"
   ]
  },
  {
   "cell_type": "code",
   "execution_count": 26,
   "id": "6zmQi3UKOPAY",
   "metadata": {
    "executionInfo": {
     "elapsed": 91961,
     "status": "ok",
     "timestamp": 1732470296475,
     "user": {
      "displayName": "Christian luna",
      "userId": "06080196293809662028"
     },
     "user_tz": -60
    },
    "id": "6zmQi3UKOPAY"
   },
   "outputs": [],
   "source": [
    "# Entrenar modelo de Regresión Logística\n",
    "logistic_model = LogisticRegression(max_iter=1000, random_state=42)\n",
    "logistic_model.fit(X_train_smote, y_train_smote)\n",
    "\n",
    "# Realizar predicciones y evaluar el modelo\n",
    "y_pred_logistic = logistic_model.predict(X_test)\n",
    "logistic_accuracy = accuracy_score(y_test, y_pred_logistic)\n",
    "logistic_report = classification_report(y_test, y_pred_logistic)"
   ]
  },
  {
   "cell_type": "markdown",
   "id": "70k596kdOPAY",
   "metadata": {
    "id": "70k596kdOPAY"
   },
   "source": [
    "#### Modelo 2: Bosque Aleatorio"
   ]
  },
  {
   "cell_type": "code",
   "execution_count": 27,
   "id": "zv9-u4zkOPAY",
   "metadata": {
    "executionInfo": {
     "elapsed": 680005,
     "status": "ok",
     "timestamp": 1732470976471,
     "user": {
      "displayName": "Christian luna",
      "userId": "06080196293809662028"
     },
     "user_tz": -60
    },
    "id": "zv9-u4zkOPAY"
   },
   "outputs": [],
   "source": [
    "# Entrenar modelo de Bosque Aleatorio\n",
    "rf_model = RandomForestClassifier(random_state=42)\n",
    "rf_model.fit(X_train_smote, y_train_smote)\n",
    "\n",
    "# Realizar predicciones y evaluar el modelo\n",
    "y_pred_rf = rf_model.predict(X_test)\n",
    "rf_accuracy = accuracy_score(y_test, y_pred_rf)\n",
    "rf_report = classification_report(y_test, y_pred_rf)\n"
   ]
  },
  {
   "cell_type": "markdown",
   "id": "u8SjA1AYOPAZ",
   "metadata": {
    "id": "u8SjA1AYOPAZ"
   },
   "source": [
    "#### Modelo 3. XGBoost con SHAP para explicabilidad"
   ]
  },
  {
   "cell_type": "code",
   "execution_count": 28,
   "id": "Zd85V1ZrOPAZ",
   "metadata": {
    "executionInfo": {
     "elapsed": 12302,
     "status": "ok",
     "timestamp": 1732470988760,
     "user": {
      "displayName": "Christian luna",
      "userId": "06080196293809662028"
     },
     "user_tz": -60
    },
    "id": "Zd85V1ZrOPAZ"
   },
   "outputs": [],
   "source": [
    "# Entrenar modelo de Bosque Aleatorio\n",
    "xgb_model = xgb.XGBClassifier(use_label_encoder=False, eval_metric='logloss', random_state=42)\n",
    "xgb_model.fit(X_train_smote, y_train_smote)\n",
    "# Realizar predicciones y evaluar el modelo\n",
    "y_pred_xgb = xgb_model.predict(X_test)\n",
    "xgb_accuracy = accuracy_score(y_test, y_pred_xgb)\n",
    "xgb_report = classification_report(y_test, y_pred_xgb)"
   ]
  },
  {
   "cell_type": "markdown",
   "id": "v12YKBudOPAZ",
   "metadata": {
    "id": "v12YKBudOPAZ"
   },
   "source": [
    "Voy a ejecutar este código para entrenar ambos modelos y mostrar los resultados de la evaluación, que incluirán el reporte de clasificación y precisión para cada modelo."
   ]
  },
  {
   "cell_type": "code",
   "execution_count": 29,
   "id": "2Ydqdj_kOPAZ",
   "metadata": {
    "colab": {
     "base_uri": "https://localhost:8080/"
    },
    "executionInfo": {
     "elapsed": 14,
     "status": "ok",
     "timestamp": 1732470988760,
     "user": {
      "displayName": "Christian luna",
      "userId": "06080196293809662028"
     },
     "user_tz": -60
    },
    "id": "2Ydqdj_kOPAZ",
    "outputId": "68fc6704-f13c-452f-bc88-9b51649565f0"
   },
   "outputs": [
    {
     "name": "stdout",
     "output_type": "stream",
     "text": [
      "Resultados del Modelo 1: Regresión Logística\n",
      "              precision    recall  f1-score   support\n",
      "\n",
      "           0       1.00      0.99      0.99     56864\n",
      "           1       0.12      0.90      0.21        98\n",
      "\n",
      "    accuracy                           0.99     56962\n",
      "   macro avg       0.56      0.94      0.60     56962\n",
      "weighted avg       1.00      0.99      0.99     56962\n",
      "\n",
      "\n",
      " Resultados del Modelo 2: Bosque Aleatorio\n",
      "              precision    recall  f1-score   support\n",
      "\n",
      "           0       1.00      1.00      1.00     56864\n",
      "           1       0.84      0.83      0.83        98\n",
      "\n",
      "    accuracy                           1.00     56962\n",
      "   macro avg       0.92      0.91      0.92     56962\n",
      "weighted avg       1.00      1.00      1.00     56962\n",
      "\n",
      "\n",
      " Resultados del Modelo 3: XGBoost\n",
      "              precision    recall  f1-score   support\n",
      "\n",
      "           0       1.00      1.00      1.00     56864\n",
      "           1       0.79      0.85      0.82        98\n",
      "\n",
      "    accuracy                           1.00     56962\n",
      "   macro avg       0.90      0.92      0.91     56962\n",
      "weighted avg       1.00      1.00      1.00     56962\n",
      "\n"
     ]
    }
   ],
   "source": [
    "print(\"Resultados del Modelo 1: Regresión Logística\")\n",
    "print(logistic_report)\n",
    "print(\"\\n Resultados del Modelo 2: Bosque Aleatorio\")\n",
    "print(rf_report)\n",
    "print(\"\\n Resultados del Modelo 3: XGBoost\")\n",
    "print(xgb_report)"
   ]
  },
  {
   "cell_type": "code",
   "execution_count": 30,
   "id": "aiw-E0MEOPAZ",
   "metadata": {
    "colab": {
     "base_uri": "https://localhost:8080/",
     "height": 1000
    },
    "executionInfo": {
     "elapsed": 623,
     "status": "ok",
     "timestamp": 1732470989380,
     "user": {
      "displayName": "Christian luna",
      "userId": "06080196293809662028"
     },
     "user_tz": -60
    },
    "id": "aiw-E0MEOPAZ",
    "outputId": "00d41038-6fdb-4b54-8b4a-2a338fd031e6"
   },
   "outputs": [
    {
     "data": {
      "image/png": "[encoded data removed]",
      "text/plain": [
       "<Figure size 600x400 with 1 Axes>"
      ]
     },
     "metadata": {},
     "output_type": "display_data"
    },
    {
     "data": {
      "image/png": "[encoded data removed]",
      "text/plain": [
       "<Figure size 600x400 with 1 Axes>"
      ]
     },
     "metadata": {},
     "output_type": "display_data"
    },
    {
     "data": {
      "image/png": "[encoded data removed]",
      "text/plain": [
       "<Figure size 600x400 with 1 Axes>"
      ]
     },
     "metadata": {},
     "output_type": "display_data"
    }
   ],
   "source": [
    "plot_confusion_matrix(y_test, y_pred_logistic, 'Regresión Logística')\n",
    "\n",
    "plot_confusion_matrix(y_test, y_pred_rf, 'Bosque Aleatorio')\n",
    "\n",
    "plot_confusion_matrix(y_test, y_pred_xgb, 'XGBoost')"
   ]
  },
  {
   "cell_type": "markdown",
   "id": "G1_uSz-1UvEZ",
   "metadata": {
    "id": "G1_uSz-1UvEZ"
   },
   "source": [
    "En este caso, hemos conseguido mejorar también en todos los modelos manteniendo una mayor proporción de las clases."
   ]
  },
  {
   "cell_type": "markdown",
   "id": "HGIaO8bJMQ6e",
   "metadata": {
    "id": "HGIaO8bJMQ6e"
   },
   "source": [
    "# Conclusiones"
   ]
  },
  {
   "cell_type": "markdown",
   "id": "5362d63d",
   "metadata": {},
   "source": [
    "Con este pequeño cuaderno, se ha conseguido obtener una mejor comprensión de como los modelos de machine learning, pueden resolver problemas que a simple vista un humano no podría resolver, además de facilitar mucho algunas tareas. Además que con este se ha podido unificar los diferentes conceptos vistos a lo largo del curso. Aspectos, que podrían haber resultado interesantes a realizar pero por la falta de tiempo se han omitido, realizar algún tipo de optimización de los hiperparámetros de los modelos, ya que se podría intentar mejorar de esta forma los resultados, para lo cual podríamos utilizar funciones como Grid Search de sklearn o una optimización bayesiana, pero esto no se ha visto tanto en el curso."
   ]
  }
 ],
 "metadata": {
  "colab": {
   "provenance": []
  },
  "kernelspec": {
   "display_name": "ciencia",
   "language": "python",
   "name": "python3"
  },
  "language_info": {
   "codemirror_mode": {
    "name": "ipython",
    "version": 3
   },
   "file_extension": ".py",
   "mimetype": "text/x-python",
   "name": "python",
   "nbconvert_exporter": "python",
   "pygments_lexer": "ipython3",
   "version": "3.11.5"
  }
 },
 "nbformat": 4,
 "nbformat_minor": 5
}
